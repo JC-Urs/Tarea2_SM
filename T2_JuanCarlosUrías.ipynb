{
 "cells": [
  {
   "cell_type": "markdown",
   "metadata": {},
   "source": [
    "Juan Carlos Urías A.\n",
    "# Tarea 2"
   ]
  },
  {
   "cell_type": "markdown",
   "metadata": {},
   "source": [
    "## \"Python is becoming the world’s most popular coding language\""
   ]
  },
  {
   "cell_type": "markdown",
   "metadata": {},
   "source": [
    "*Ciertamente no me propuse crear un lenguaje destinado al consumo masivo*, dice Guido van Rossum, un informático holandés que ideó Python, un lenguaje de programación, en 1989."
   ]
  },
  {
   "cell_type": "markdown",
   "metadata": {},
   "source": [
    "Para darnos una idea de la tremenda popularidad que el lenguaje a alcanzado, En los últimos 12 meses, los estadounidenses han buscado Python en Google más que a Kim Kardashian, una estrella de la televisión."
   ]
  },
  {
   "cell_type": "markdown",
   "metadata": {},
   "source": [
    "### Principales Ventajas de Python:\n",
    "    1. Simplicidad\n",
    "    2. Flexibilidad"
   ]
  },
  {
   "cell_type": "markdown",
   "metadata": {},
   "source": [
    "Su sintaxis directa y el uso de espacios con sangría facilitan el aprendizaje, además de que los Pythonistas, han cargado 145.000 paquetes de software personalizados en un repositorio en línea, que extienden más allá las posibildades de aprender. "
   ]
  },
  {
   "cell_type": "markdown",
   "metadata": {},
   "source": [
    "Con una base de usuarios de tan rápido crecimiento y una amplia gama de capacidades, Python podríaconvertirse en la lengua base de la codificación, haciendo que todos los demás competidores queden atrás. Aunque por la propia construcción de Python no podría eliminar a Java, que es popular para la construcción de aplicaciones complicadas, o JavaScript, que alimenta la mayoría de las páginas web."
   ]
  },
  {
   "cell_type": "markdown",
   "metadata": {},
   "source": [
    "Aunuqe según expertos y analistas \" *Ningún imperio, independientemente de su poder, puede durar para siempre.* \""
   ]
  },
  {
   "cell_type": "code",
   "execution_count": null,
   "metadata": {},
   "outputs": [],
   "source": []
  }
 ],
 "metadata": {
  "kernelspec": {
   "display_name": "Python 3",
   "language": "python",
   "name": "python3"
  },
  "language_info": {
   "codemirror_mode": {
    "name": "ipython",
    "version": 3
   },
   "file_extension": ".py",
   "mimetype": "text/x-python",
   "name": "python",
   "nbconvert_exporter": "python",
   "pygments_lexer": "ipython3",
   "version": "3.8.3"
  }
 },
 "nbformat": 4,
 "nbformat_minor": 4
}
