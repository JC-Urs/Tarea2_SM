{
 "cells": [
  {
   "cell_type": "markdown",
   "metadata": {},
   "source": [
    "Juan Carlos Urías A.\n",
    "# Tarea 2"
   ]
  },
  {
   "cell_type": "markdown",
   "metadata": {},
   "source": [
    "## \"Python is becoming the world’s most popular coding language\""
   ]
  },
  {
   "cell_type": "markdown",
   "metadata": {},
   "source": [
    "*Ciertamente no me propuse crear un lenguaje destinado al consumo masivo*, dice Guido van Rossum, un informático holandés que ideó Python, un lenguaje de programación, en 1989."
   ]
  },
  {
   "cell_type": "markdown",
   "metadata": {},
   "source": [
    "Para darnos una idea de la tremenda popularidad que el lenguaje a alcanzado, En los últimos 12 meses, los estadounidenses han buscado Python en Google más que a Kim Kardashian, una estrella de la televisión."
   ]
  },
  {
   "cell_type": "markdown",
   "metadata": {},
   "source": [
    "### Principales Ventajas de Python:\n",
    "    1. Simplicidad\n",
    "    2. Flexibilidad"
   ]
  },
  {
   "cell_type": "markdown",
   "metadata": {},
   "source": [
    "Su sintaxis directa y el uso de espacios con sangría facilitan el aprendizaje, además de que los Pythonistas, han cargado 145.000 paquetes de software personalizados en un repositorio en línea, que extienden más allá las posibildades de aprender. "
   ]
  },
  {
   "cell_type": "markdown",
   "metadata": {},
   "source": [
    "Con una base de usuarios de tan rápido crecimiento y una amplia gama de capacidades, Python podríaconvertirse en la lengua base de la codificación, haciendo que todos los demás competidores queden atrás. Aunque por la propia construcción de Python no podría eliminar a Java, que es popular para la construcción de aplicaciones complicadas, o JavaScript, que alimenta la mayoría de las páginas web."
   ]
  },
  {
   "cell_type": "markdown",
   "metadata": {},
   "source": [
    "Aunuqe según expertos y analistas \" *Ningún imperio, independientemente de su poder, puede durar para siempre.* \""
   ]
  },
  {
   "cell_type": "markdown",
   "metadata": {},
   "source": [
    "## \"Why Python is so popular with developers: 3 reasons the language has exploded\""
   ]
  },
  {
   "cell_type": "markdown",
   "metadata": {},
   "source": [
    "Python es el lenguaje de programación de más rápido crecimiento en el mundo, ya que se utiliza cada vez más en una amplia gama de roles de trabajo de desarrolladores y posiciones de ciencia de datos en todas las industrias."
   ]
  },
  {
   "cell_type": "markdown",
   "metadata": {},
   "source": [
    "Aquí hay tres razones por las que Python está dominando actualmente el espacio de programación."
   ]
  },
  {
   "cell_type": "markdown",
   "metadata": {},
   "source": [
    "### 1. Facilidad de Aprendizaje"
   ]
  },
  {
   "cell_type": "markdown",
   "metadata": {},
   "source": [
    "Python se clasifica constantemente como uno de los lenguajes de programación más fácilesde aprender, y es conocido por su alta confiabilidad y sintaxis simple. "
   ]
  },
  {
   "cell_type": "markdown",
   "metadata": {},
   "source": [
    "\"*Python es el lenguaje más cercano a lo que yo llamo 'un lenguaje de gratificación instantánea', lo que significa que con muy poco código, puede lograr mucho, incluso si usted es un programador novato*\", dijo Karen Panetta, una miembro de IEEE y decana de ingeniería de posgrado en la Universidad de Tufts. \"*Esto se debe a que Python lee como inglés, lo que hace que sea más propicio para un amplio nivel de audiencias de usuarios para aprender. Muchos de los detalles de bajo nivel 'nerdy' de los que solíamos preocuparnos en otros lenguajes, como declarar tipos de variables o argumentos, son manejados por Python, por lo que hace que la programación sea muy flexible y fácil de usar que otros lenguajes*\"."
   ]
  },
  {
   "cell_type": "markdown",
   "metadata": {},
   "source": [
    "### 2. La explosión de la IA, el aprendizaje automático y la ciencia de datos en la empresa"
   ]
  },
  {
   "cell_type": "markdown",
   "metadata": {},
   "source": [
    "El crecimiento en el uso de Python ha sido más rápido entre los científicos de datos, y particularmente entre aquellos que trabajan en el aprendizaje automático, se encontró Stack Overflow. \"*De acuerdo con los datos que tenemos, los patrones de visitas que vemos a las personas que usan Python para la ciencia de datos es lo que está detrás del aumento realmente dramático en el uso de Python*\", dijo Silge."
   ]
  },
  {
   "cell_type": "markdown",
   "metadata": {},
   "source": [
    "\"*Vemos casi un renacimiento porque Python ha demostrado ser muy, muy útil para la gente que está haciendo el tipo de inteligencia artificial o aprendizaje automático de las cosas*\", dijo el vicepresidente y analista principal de Forrester, Jeff Hammond. \"*Hay un marco muy bueno. Tienes algunas herramientas agradables para los científicos de datos, o personas que aspiran a ser científicos de datos*\"."
   ]
  },
  {
   "cell_type": "markdown",
   "metadata": {},
   "source": [
    "### 3. Una gran comunidad de desarrolladores"
   ]
  },
  {
   "cell_type": "markdown",
   "metadata": {},
   "source": [
    "Python se utiliza en un gran número de aplicaciones, desde IA, videojuegos y herramientas de productividad. \"*Dado que ha disfrutado de una amplia difusión y aceptación en muchas disciplinas, ahora tiene una enorme comunidad de desarrolladores*\", dijo Panetta. \"*Hay una gran cantidad de bibliotecas de Python de código abierto disponibles que muy probablemente pueden lograr lo que necesita para ayudar a resolver su problema.*\"\n",
    "\n",
    "Python \"*tiene una comunidad sana y amigable a su alrededor, incluyendo, por ejemplo, comunidades construidas para aquellos que están subrepresentados en tecnología*\", dijo Silge. "
   ]
  }
 ],
 "metadata": {
  "kernelspec": {
   "display_name": "Python 3",
   "language": "python",
   "name": "python3"
  },
  "language_info": {
   "codemirror_mode": {
    "name": "ipython",
    "version": 3
   },
   "file_extension": ".py",
   "mimetype": "text/x-python",
   "name": "python",
   "nbconvert_exporter": "python",
   "pygments_lexer": "ipython3",
   "version": "3.8.3"
  }
 },
 "nbformat": 4,
 "nbformat_minor": 4
}
